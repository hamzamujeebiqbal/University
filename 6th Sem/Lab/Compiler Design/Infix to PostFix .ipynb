{
 "cells": [
  {
   "cell_type": "code",
   "execution_count": 46,
   "metadata": {},
   "outputs": [
    {
     "name": "stdout",
     "output_type": "stream",
     "text": [
      "abcd^e-fgh*+^*+i-\n"
     ]
    }
   ],
   "source": [
    "# Program to convert the infix to post fix and pre fix with the help of expression \n",
    "\n",
    "class Conversion:\n",
    "    def __init__(self,capacity):\n",
    "        self.top=-1\n",
    "        self.capacity=capacity\n",
    "        # now we use a array for the stack\n",
    "        self.array=[]\n",
    "        # for setting up the precedence\n",
    "        self.output=[] # it keep track of the output elements from the stack\n",
    "        self.precedence={'+':1,'-':1,'*':2,'/':2,'^':3}\n",
    "        \n",
    "    # we define a function to check whether the stack is empty or not\n",
    "    def isEmpty(self):\n",
    "        return True if self.top==-1 else False\n",
    "    # we define a function to return the top value of the stack\n",
    "    def peek(self):\n",
    "        return self.array[-1]\n",
    "    # to pop the element from the stack\n",
    "    def pop(self):\n",
    "        if not self.isEmpty():\n",
    "            self.top-=1\n",
    "            return self.array.pop()\n",
    "        else:\n",
    "            return '$'\n",
    "    #to push the element in the stack\n",
    "    def push(self,op):\n",
    "        self.top+=1\n",
    "        self.array.append(op)\n",
    "    \n",
    "    #we now make a function to check whether the given operator is operand or not\n",
    "    def isOperand(self,op):\n",
    "        return op.isalpha()\n",
    "    # to chech whether the top of the stack has more precedence than the operator or not\n",
    "    def notGreater(self,i):\n",
    "        try:\n",
    "            a=self.precedence[i]\n",
    "            b=self.precedence[self.peek()]\n",
    "            return True if a<=b else False\n",
    "        except KeyError:\n",
    "            return False\n",
    "        \n",
    "    #conversion of infix to post fix\n",
    "    def infixToPostfix(self,exp):\n",
    "        \n",
    "        # 1.go through the expression\n",
    "        for i in exp:\n",
    "            # 2. check  whether the scanned character is operand or not and output it\n",
    "            if self.isOperand(i):\n",
    "                self.output.append(i)\n",
    "            #3. if the character is a '(' push it into the stack\n",
    "            elif i=='(':\n",
    "                self.push(i)\n",
    "            #4. if the char is a ')' pop until you find '('\n",
    "            elif i==')':\n",
    "                while(not self.isEmpty() and self.peek() !='('):\n",
    "                    a=self.pop()\n",
    "                    self.output.append(a)\n",
    "                if (not self.isEmpty() and self.peek()!='('):\n",
    "                    return -1\n",
    "                else:\n",
    "                    self.pop()\n",
    "                \n",
    "            # An operator is encountered\n",
    "            else:\n",
    "                while(not self.isEmpty() and self.notGreater(i)):\n",
    "                    self.output.append(self.pop())\n",
    "                self.push(i)\n",
    "            \n",
    "            #pop all the operator from the stack\n",
    "        \n",
    "        while not self.isEmpty():\n",
    "            self.output.append(self.pop())\n",
    "            \n",
    "        print(''.join(self.output))\n",
    "        \n",
    "                    \n",
    "         \n",
    " # Driver program to test above function \n",
    "exp = \"a+b*(c^d-e)^(f+g*h)-i\"\n",
    "obj = Conversion(len(exp)) \n",
    "obj.infixToPostfix(exp) \n",
    "                    \n",
    "                \n",
    "            \n",
    "    \n",
    "    \n",
    "        \n",
    "        "
   ]
  },
  {
   "cell_type": "code",
   "execution_count": 45,
   "metadata": {},
   "outputs": [
    {
     "name": "stdout",
     "output_type": "stream",
     "text": [
      "abcd^e-fgh*+^*+i-\n"
     ]
    }
   ],
   "source": [
    "# Driver program to test above function \n",
    "exp = \"a+b*(c^d-e)^(f+g*h)-i\"\n",
    "obj = Conversion(len(exp)) \n",
    "obj.infixToPostfix(exp) "
   ]
  },
  {
   "cell_type": "code",
   "execution_count": 18,
   "metadata": {},
   "outputs": [
    {
     "data": {
      "text/plain": [
       "True"
      ]
     },
     "execution_count": 18,
     "metadata": {},
     "output_type": "execute_result"
    }
   ],
   "source": [
    "a=Test()\n",
    "a.isEmpty()"
   ]
  },
  {
   "cell_type": "code",
   "execution_count": null,
   "metadata": {},
   "outputs": [],
   "source": []
  }
 ],
 "metadata": {
  "kernelspec": {
   "display_name": "Python 3",
   "language": "python",
   "name": "python3"
  },
  "language_info": {
   "codemirror_mode": {
    "name": "ipython",
    "version": 3
   },
   "file_extension": ".py",
   "mimetype": "text/x-python",
   "name": "python",
   "nbconvert_exporter": "python",
   "pygments_lexer": "ipython3",
   "version": "3.7.1"
  }
 },
 "nbformat": 4,
 "nbformat_minor": 2
}
