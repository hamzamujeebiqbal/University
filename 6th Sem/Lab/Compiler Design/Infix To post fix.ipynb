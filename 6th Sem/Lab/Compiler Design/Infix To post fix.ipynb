# Program to convert the infix to post fix and pre fix with the help of expression 

class Conversion:
    def __init__(self,capacity):
        self.top=-1
        self.capacity=capacity
        # now we use a array for the stack
        self.array=[]
        # for setting up the precedence
        self.output=[] # it keep track of the output elements from the stack
        self.precedence={'+':1,'-':1,'*':2,'/':2,'^':3}
        
    # we define a function to check whether the stack is empty or not
    def isEmpty(self):
        return True if self.top==-1 else False
    # we define a function to return the top value of the stack
    def peek(self):
        return self.array[-1]
    # to pop the element from the stack
    def pop(self):
        if not self.isEmpty():
            self.top-=1
            return self.array.pop()
        else:
            return '$'
    #to push the element in the stack
    def push(self,op):
        self.top+=1
        self.array.append(op)
    
    #we now make a function to check whether the given operator is operand or not
    def isOperand(self,op):
        return op.isalpha()
    # to chech whether the top of the stack has more precedence than the operator or not
    def notGreater(self,i):
        try:
            a=self.precedence[i]
            b=self.precedence[self.peek()]
            return True if a<=b else False
        except KeyError:
            return False
        
    #conversion of infix to post fix
    def infixToPostfix(self,exp):
        
        # 1.go through the expression
        for i in exp:
            # 2. check  whether the scanned character is operand or not and output it
            if self.isOperand(i):
                self.output.append(i)
            #3. if the character is a '(' push it into the stack
            elif i=='(':
                self.push(i)
            #4. if the char is a ')' pop until you find '('
            elif i==')':
                while(not self.isEmpty() and self.peek() !='('):
                    a=self.pop()
                    self.output.append(a)
                if (not self.isEmpty() and self.peek()!='('):
                    return -1
                else:
                    self.pop()
                
            # An operator is encountered
            else:
                while(not self.isEmpty() and self.notGreater(i)):
                    self.output.append(self.pop())
                self.push(i)
            
            #pop all the operator from the stack
        
        while not self.isEmpty():
            self.output.append(self.pop())
            
        print(''.join(self.output))
        
                    
         
 # Driver program to test above function 
exp = "a+b*(c^d-e)^(f+g*h)-i"
obj = Conversion(len(exp)) 
obj.infixToPostfix(exp) 
                    
                
            
    
    
        
        
